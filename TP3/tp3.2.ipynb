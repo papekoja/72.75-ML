{
 "cells": [
  {
   "cell_type": "code",
   "execution_count": 1,
   "metadata": {},
   "outputs": [],
   "source": [
    "import math\n",
    "import random\n",
    "import pandas as pd\n",
    "import numpy as np\n",
    "import matplotlib.pyplot as plt\n",
    "import matplotlib.style as mpl_style\n",
    "\n",
    "from icecream import ic\n",
    "from sklearn.model_selection import train_test_split\n",
    "from sklearn.metrics import classification_report\n",
    "from sklearn import svm\n",
    "\n",
    "from kernal import linear, polynomial, rbf"
   ]
  },
  {
   "cell_type": "markdown",
   "metadata": {},
   "source": [
    "# Ej 1\n",
    "\n",
    "### a) Construct a set 'TP3-1' of linearly separable examples at < 2 (e.g., randomly generate points in [0, 5]x[0, 5] such that they belong to two linearly separable classes 1 and -1). Use a simple step perceptron to separate the ensemble linearly. Is the separation hyperplane optimal? Justify the answer.\n",
    "\n",
    "§"
   ]
  },
  {
   "cell_type": "markdown",
   "metadata": {},
   "source": [
    "### Defenitions for plotting and perceptron"
   ]
  },
  {
   "cell_type": "code",
   "execution_count": 2,
   "metadata": {},
   "outputs": [
    {
     "name": "stdout",
     "output_type": "stream",
     "text": [
      "kind: normal \n",
      "b0: 1.0 \n",
      "b1: 2.0 \n",
      "b2: -2.0\n"
     ]
    }
   ],
   "source": [
    "# This is for the spliting line function\n",
    "\n",
    "'''\n",
    "n_items = the amount of items generated randomly in [0,5][0,5]\n",
    "b0 = the bias\n",
    "b1 and b2 = the weights of the line on which the class split is made.\n",
    "\n",
    "Class is eiter 1 or -1 depending on if it's above or below the line\n",
    "'''\n",
    "\n",
    "choice_list = ['normal',\n",
    "               'steep',\n",
    "               'steep_low',\n",
    "               'shallow',\n",
    "               'shallow_high',\n",
    "               'negative',]\n",
    "\n",
    "def choose(choice='normal', n=1000):\n",
    "    n_items = n\n",
    "\n",
    "    if choice == 'normal': b0=1; b1=2; b2=-2\n",
    "    if choice == 'steep': b0=-2; b1=2; b2=-1\n",
    "    if choice == 'steep_low': b0=-8; b1=3; b2=-1\n",
    "    if choice == 'shallow': b0=1; b1=2; b2=-4\n",
    "    if choice == 'shallow_high': b0=9; b1=1; b2=-3\n",
    "    if choice == 'negative': b0=5; b1=-1; b2=-1\n",
    "\n",
    "    return n_items, float(b0), float(b1), float(b2)\n",
    "\n",
    "\n",
    "\n",
    "# Use this number (0 to 5) to choose the line you want to use\n",
    "num = 0\n",
    "amount = 8\n",
    "\n",
    "n_items, b0, b1, b2 = choose(choice_list[num], amount)\n",
    "n_items, ogb0, ogb1, ogb2 = choose(choice_list[num], amount) # og = original, only used for plot titles\n",
    "\n",
    "print(f\"kind: {choice_list[num]} \\nb0: {b0} \\nb1: {b1} \\nb2: {b2}\")"
   ]
  },
  {
   "cell_type": "code",
   "execution_count": 3,
   "metadata": {},
   "outputs": [],
   "source": [
    "def plotting(data, b0=b0, b1=b1, b2=b2, line=True, legend=False, title=\"Title\", subtitle=False):\n",
    "    \n",
    "    '''\n",
    "    This will plot the scatterplot of the data and the line. It's for visualisation only\n",
    "    Choose a different b0, b1, b2 to plot a different line if you want\n",
    "    line = true will draw this line, false won'test_1\n",
    "    Legend = true removes the legend. This might be anoying with some plots  \n",
    "    '''\n",
    "\n",
    "    factor = ogb0/b0\n",
    "    b0n = b0* factor\n",
    "    b1n = b1*factor\n",
    "    b2n = b2*factor\n",
    "\n",
    "\n",
    "    # normalizing_factor = b0/bias\n",
    "    # weights_normalized = weights * normalizing_factor\n",
    "    # bias_normalized = bias * normalizing_factor\n",
    "\n",
    "    #For the line in the plot\n",
    "    if line:\n",
    "        x1_for_line = np.linspace(0, 5, 100)\n",
    "        x2_for_line = (-b0 - b1 * x1_for_line) / b2\n",
    "        plt.figure(figsize=(8, 6))\n",
    "        plt.plot(x1_for_line, x2_for_line, label=f'{round(b0)} + {round(b1)}x1 + {round(b2)}x2', color='green', linestyle='--')\n",
    "        plt.scatter(data['x1'], data['x2'], label='Data', c=data['y'], marker='.')\n",
    "        plt.xlabel('x1')\n",
    "        plt.ylabel('x2')\n",
    "        plt.axhline(0, color='grey', linewidth=0.5)\n",
    "        plt.axvline(0, color='grey', linewidth=0.5)\n",
    "\n",
    "    else:\n",
    "        plt.figure(figsize=(8, 6))\n",
    "        # plt.plot(x1_for_line, x2_for_line, label=f'{round(b0)} + {round(b1)}x1 + {round(b2)}x2', color='blue')\n",
    "        plt.scatter(data['x1'], data['x2'], label='Data', c=data['y'], marker='.')\n",
    "        plt.xlabel('x1')\n",
    "        plt.ylabel('x2')\n",
    "        plt.axhline(0, color='grey', linewidth=0.5)\n",
    "        plt.axvline(0, color='grey', linewidth=0.5)\n",
    "\n",
    "    # Set the title and subtitle\n",
    "    plt.title(title, fontsize=14)\n",
    "    if subtitle:\n",
    "        plt.suptitle(f\"new: {round(b0n, 3)} + {round(b1n, 3)} + {round(b2n, 3)}\\nold: {round(ogb0, 3)} + {round(ogb1, 3)} + {round(ogb2, 3)}\", fontsize=11)\n",
    "\n",
    "    # Make the background transparent\n",
    "    plt.gca().set_facecolor('none')\n",
    "\n",
    "    # Hide the outer lines\n",
    "    plt.gca().spines['top'].set_visible(False)\n",
    "    plt.gca().spines['right'].set_visible(False)\n",
    "    plt.gca().spines['bottom'].set_visible(False)\n",
    "    plt.gca().spines['left'].set_visible(False)\n",
    "    \n",
    "    if legend:    \n",
    "        plt.legend()\n",
    "    plt.show()"
   ]
  },
  {
   "cell_type": "code",
   "execution_count": 4,
   "metadata": {},
   "outputs": [],
   "source": [
    "def report(test_data, weights, bias):\n",
    "\n",
    "    '''\n",
    "    test data = unseen data\n",
    "    weights = weights of the model like [w1, w2]\n",
    "    bias = bias of the model\n",
    "    '''\n",
    "    \n",
    "    y_pred_1 = np.dot(test_data[['x1', 'x2']].values, weights) + bias\n",
    "    y_pred_1 = np.where(y_pred_1 > 0, 1, -1)\n",
    "\n",
    "    # Calculate the classification report from sklearn metrics\n",
    "    report = classification_report(test_data['y'], y_pred_1)\n",
    "    print(report)"
   ]
  },
  {
   "cell_type": "code",
   "execution_count": 5,
   "metadata": {},
   "outputs": [],
   "source": [
    "def perceptron_train(X, y, learning_rate=0.1, n_epochs=100):\n",
    "    n_samples, n_features = X.shape\n",
    "    weights = np.zeros(n_features)\n",
    "    bias = 0\n",
    "    \n",
    "    for _ in range(n_epochs):\n",
    "        for i in range(n_samples):\n",
    "            prediction = np.dot(X[i], weights) + bias\n",
    "            if prediction > 0:\n",
    "                y_pred = 1\n",
    "            else:\n",
    "                y_pred = -1\n",
    "            \n",
    "            if y_pred != y[i]:\n",
    "                weights += learning_rate * (y[i] - y_pred) * X[i]\n",
    "                bias += learning_rate * (y[i] - y_pred)\n",
    "    \n",
    "    return weights, bias"
   ]
  },
  {
   "cell_type": "markdown",
   "metadata": {},
   "source": [
    "### Data creation\n",
    "train_1, test_1, train_2, test_2"
   ]
  },
  {
   "cell_type": "code",
   "execution_count": 34,
   "metadata": {},
   "outputs": [
    {
     "data": {
      "image/png": "[encoded data removed]",
      "text/plain": [
       "<Figure size 576x432 with 1 Axes>"
      ]
     },
     "metadata": {
      "needs_background": "light"
     },
     "output_type": "display_data"
    },
    {
     "name": "stdout",
     "output_type": "stream",
     "text": [
      "         x1        x2  y\n",
      "0  4.811058  1.849734  1\n",
      "4  4.507141  4.764537  1\n",
      "6  4.745465  1.607374  1\n",
      "5  1.758511  3.224592 -1\n",
      "3  3.049209  2.872058  1\n",
      "1  2.337134  4.815500 -1\n",
      "7  2.985539  1.434043  1\n"
     ]
    }
   ],
   "source": [
    "# the following is for the linespace representation of the line in the plot\n",
    "x1_for_line = np.linspace(0, 5, 100)\n",
    "x2_for_line = (-b0 - b1 * x1_for_line) / b2\n",
    "\n",
    "x1 = [random.uniform(0, 5) for i in range(n_items)]\n",
    "x2 = [random.uniform(0, 5) for i in range(n_items)]\n",
    "y = [1 if (b0 + b1 * x1[i] + b2 * x2[i]) > 0 else -1 for i in range(n_items)]\n",
    "\n",
    "# create TP3_1, TP3_2, and creating a train test split\n",
    "TP3_1 = pd.DataFrame({'x1': x1, 'x2': x2, 'y': y})\n",
    "TP3_2 = TP3_1.copy()\n",
    "train_1, test_1 = train_test_split(TP3_1, test_size=0.1)\n",
    "train_2, test_2 = train_test_split(TP3_2, test_size=0.1)\n",
    "\n",
    "plotting(train_1, b0, b1, b2, legend=True, title=\"Scatterplot with linear separator\")\n",
    "print(train_1)\n"
   ]
  },
  {
   "cell_type": "markdown",
   "metadata": {},
   "source": [
    "### Training"
   ]
  },
  {
   "cell_type": "code",
   "execution_count": 7,
   "metadata": {},
   "outputs": [],
   "source": [
    "# perform the perceptron training\n",
    "weights, bias = perceptron_train(train_1[['x1', 'x2']].values, train_1['y'].values, n_epochs=100, learning_rate=0.1)\n",
    "\n",
    "w_old = weights\n",
    "b_old = bias"
   ]
  },
  {
   "cell_type": "markdown",
   "metadata": {},
   "source": [
    "### Prediction and testing"
   ]
  },
  {
   "cell_type": "code",
   "execution_count": 8,
   "metadata": {},
   "outputs": [
    {
     "name": "stdout",
     "output_type": "stream",
     "text": [
      "              precision    recall  f1-score   support\n",
      "\n",
      "          -1       0.00      0.00      0.00       1.0\n",
      "           1       0.00      0.00      0.00       0.0\n",
      "\n",
      "    accuracy                           0.00       1.0\n",
      "   macro avg       0.00      0.00      0.00       1.0\n",
      "weighted avg       0.00      0.00      0.00       1.0\n",
      "\n"
     ]
    },
    {
     "name": "stderr",
     "output_type": "stream",
     "text": [
      "c:\\Users\\flo12\\AppData\\Local\\Programs\\Python\\Python310\\lib\\site-packages\\sklearn\\metrics\\_classification.py:1469: UndefinedMetricWarning: Precision and F-score are ill-defined and being set to 0.0 in labels with no predicted samples. Use `zero_division` parameter to control this behavior.\n",
      "  _warn_prf(average, modifier, msg_start, len(result))\n",
      "c:\\Users\\flo12\\AppData\\Local\\Programs\\Python\\Python310\\lib\\site-packages\\sklearn\\metrics\\_classification.py:1469: UndefinedMetricWarning: Recall and F-score are ill-defined and being set to 0.0 in labels with no true samples. Use `zero_division` parameter to control this behavior.\n",
      "  _warn_prf(average, modifier, msg_start, len(result))\n",
      "c:\\Users\\flo12\\AppData\\Local\\Programs\\Python\\Python310\\lib\\site-packages\\sklearn\\metrics\\_classification.py:1469: UndefinedMetricWarning: Precision and F-score are ill-defined and being set to 0.0 in labels with no predicted samples. Use `zero_division` parameter to control this behavior.\n",
      "  _warn_prf(average, modifier, msg_start, len(result))\n",
      "c:\\Users\\flo12\\AppData\\Local\\Programs\\Python\\Python310\\lib\\site-packages\\sklearn\\metrics\\_classification.py:1469: UndefinedMetricWarning: Recall and F-score are ill-defined and being set to 0.0 in labels with no true samples. Use `zero_division` parameter to control this behavior.\n",
      "  _warn_prf(average, modifier, msg_start, len(result))\n",
      "c:\\Users\\flo12\\AppData\\Local\\Programs\\Python\\Python310\\lib\\site-packages\\sklearn\\metrics\\_classification.py:1469: UndefinedMetricWarning: Precision and F-score are ill-defined and being set to 0.0 in labels with no predicted samples. Use `zero_division` parameter to control this behavior.\n",
      "  _warn_prf(average, modifier, msg_start, len(result))\n",
      "c:\\Users\\flo12\\AppData\\Local\\Programs\\Python\\Python310\\lib\\site-packages\\sklearn\\metrics\\_classification.py:1469: UndefinedMetricWarning: Recall and F-score are ill-defined and being set to 0.0 in labels with no true samples. Use `zero_division` parameter to control this behavior.\n",
      "  _warn_prf(average, modifier, msg_start, len(result))\n"
     ]
    }
   ],
   "source": [
    "report(test_1, weights, bias)\n",
    "\n",
    "# The report is avtually very nice. F1 of 1 an precision of 1 as well\n",
    "# All the test datapoints are classified correctly \n",
    "\n",
    "# This changes thought when using higher sample sizes but it will remain high"
   ]
  },
  {
   "cell_type": "markdown",
   "metadata": {},
   "source": [
    "\n",
    "### b) Obtain the optimal hyperplane from the hyperplane obtained with the perceptron simple."
   ]
  },
  {
   "cell_type": "markdown",
   "metadata": {},
   "source": [
    "### pt 2"
   ]
  },
  {
   "cell_type": "code",
   "execution_count": 28,
   "metadata": {},
   "outputs": [],
   "source": [
    "def distance_to_line(a, b, c, x, y):\n",
    "    return abs(a * x + b * y + c) / math.sqrt(a * a + b * b)\n",
    "\n",
    "def line_from_points(x1, y1,x2, y2):\n",
    "    a = y2 - y1\n",
    "    b = x1 - x2\n",
    "    c = x2 * y1 - x1 * y2\n",
    "    return a,b,c\n",
    "\n",
    "def find_max_margin(set_1, set_2, points_to_consider):\n",
    "    points_to_consider = min(points_to_consider, len(set_1))\n",
    "    best_seperation = ()\n",
    "    best_margin = 0\n",
    "    for i in range(points_to_consider):\n",
    "        for j in range(i+1, points_to_consider):\n",
    "            #take two points from set one that are close to the line and create a new line\n",
    "            x1, y1, _ = set_1[i]\n",
    "            x2, y2, _ = set_1[j]\n",
    "            a,b,c = line_from_points(x1, y1,x2, y2)\n",
    "            \n",
    "            #find closest point in set 2\n",
    "            min_distance = float('inf') \n",
    "            closest_point = None\n",
    "            for p in set_2:\n",
    "                d = distance_to_line(a,b,c,p[0],p[1])\n",
    "                if d < min_distance:\n",
    "                    min_distance = d\n",
    "                    closest_point = p\n",
    "\n",
    "            #calculate center between the two candidates of set 1 and the closest point of set 2\n",
    "            p1 = np.array([x1, y1])\n",
    "            p2 = np.array([x2, y2])\n",
    "            p3 = np.array([closest_point[0], closest_point[1]])\n",
    "            v1 = p2 - p1 \n",
    "            v2 = p3 - p1\n",
    "            v_a = v1.dot(v2) / v1.dot(v1) * v1 \n",
    "\n",
    "            mid_point = (p1 + v_a + p3) * 0.5\n",
    "\n",
    "            normal_v = mid_point - p3\n",
    "            margin = math.sqrt(normal_v[0]**2 + normal_v[1]**2)\n",
    "\n",
    "            mid_point_2 = mid_point + v1\n",
    "            a_new, b_new, c_new = line_from_points(mid_point[0],mid_point[1],mid_point_2[0],mid_point_2[1])\n",
    "\n",
    "            #test if it still seperates the two classes\n",
    "        \n",
    "            test_for_set_1 = ((-a_new*set_1[0][0] - c_new) / b_new) >= set_1[0][1]\n",
    "            seperated = True\n",
    "            for p in set_1:\n",
    "                if ((-a_new*p[0] - c_new) / b_new >= p[1]) != test_for_set_1:\n",
    "                    seperated = False\n",
    "                    break\n",
    "                \n",
    "            if seperated:\n",
    "                for p in set_2:\n",
    "                    if ((-a_new*p[0] - c_new) / b_new >= p[1]) == test_for_set_1:\n",
    "                        seperated = False\n",
    "                        break\n",
    "            # if the new line separates well the two sets \n",
    "            if seperated :print(f'line: {(a_new,b_new,c_new)} margin : {margin}')\n",
    "\n",
    "            if seperated and margin > best_margin:\n",
    "                best_margin = margin\n",
    "                best_seperation = (a_new,b_new,c_new)\n",
    "    \n",
    "    return best_seperation, best_margin\n",
    "                \n",
    "\n",
    "def perceptron_optimal_2(w_old,b_old, points_x, points_y ,points_to_consider = 2):\n",
    "    set_1 = []\n",
    "    set_2 = []\n",
    "    a = w_old[0]\n",
    "    b = w_old[1]\n",
    "    c = b_old\n",
    "    if points_to_consider < 2 : \n",
    "        print(\"needs at least 2 points to find optimal hyperplane\")\n",
    "        return\n",
    "\n",
    "    for i in range(len(points_x)):\n",
    "        x = points_x[i][0]\n",
    "        y = points_x[i][1]\n",
    "        d = distance_to_line(a,b,c, x, y)\n",
    "        if points_y[i] == 1:\n",
    "            set_1.append((x,y,d))\n",
    "        else:\n",
    "            set_2.append((x,y,d))\n",
    "\n",
    "    #sort by distance\n",
    "    set_1 = sorted(set_1, key=lambda tup: tup[2])\n",
    "    set_2 = sorted(set_2, key=lambda tup: tup[2])\n",
    "    m1 = find_max_margin(set_1,set_2,points_to_consider)\n",
    "    print(m1)\n",
    "\n",
    "    m2 = find_max_margin(set_2,set_1,points_to_consider)\n",
    "    print(m2)\n",
    "\n",
    "    return m1 if m1[1] > m2[1] else m2\n"
   ]
  },
  {
   "cell_type": "code",
   "execution_count": 35,
   "metadata": {},
   "outputs": [
    {
     "name": "stdout",
     "output_type": "stream",
     "text": [
      "         x1        x2  y\n",
      "0  4.811058  1.849734  1\n",
      "4  4.507141  4.764537  1\n",
      "6  4.745465  1.607374  1\n",
      "5  1.758511  3.224592 -1\n",
      "3  3.049209  2.872058  1\n",
      "1  2.337134  4.815500 -1\n",
      "7  2.985539  1.434043  1\n",
      "line: (-1.8924787083893344, 1.4579313888515046, 0.10500576352354773) margin : 0.6188072781223776\n",
      "((-1.8924787083893344, 1.4579313888515046, 0.10500576352354773), 0.6188072781223776)\n",
      "line: (1.5909085896854513, -0.578623053547727, -2.0604908106987487) margin : 0.6667293458874864\n",
      "((1.5909085896854513, -0.578623053547727, -2.0604908106987487), 0.6667293458874864)\n"
     ]
    }
   ],
   "source": [
    "print(train_1)\n",
    "\n",
    "w_old, b_old = perceptron_train(train_1[['x1', 'x2']].values, train_1['y'].values)\n",
    "best_seperation, best_margin = perceptron_optimal_2(w_old,b_old, train_1[['x1', 'x2']].values,train_1['y'].values, 2)\n",
    "\n",
    "#optimal_hyperplane, optimal_margin, hyperplanes = perceptron_optimal(train_1[['x1', 'x2']].values, train_1['y'].values)\n",
    "# report(test_1, weights, bias)"
   ]
  },
  {
   "cell_type": "code",
   "execution_count": 36,
   "metadata": {},
   "outputs": [
    {
     "name": "stdout",
     "output_type": "stream",
     "text": [
      "         x1        x2  y\n",
      "0  4.811058  1.849734  1\n",
      "4  4.507141  4.764537  1\n",
      "6  4.745465  1.607374  1\n",
      "5  1.758511  3.224592 -1\n",
      "3  3.049209  2.872058  1\n",
      "1  2.337134  4.815500 -1\n",
      "7  2.985539  1.434043  1\n",
      "-0.3488325358506807\n",
      "-0.3488325358506807\n"
     ]
    },
    {
     "data": {
      "image/png": "[encoded data removed]",
      "text/plain": [
       "<Figure size 432x360 with 1 Axes>"
      ]
     },
     "metadata": {
      "needs_background": "light"
     },
     "output_type": "display_data"
    }
   ],
   "source": [
    "\n",
    "# Function for hyperplane representation for old simple perceptron hyperplane: input weights and bias\n",
    "def x_y(weights, bias, margin=0): # plotting the output\n",
    "    x_boundary = np.linspace(0, 5, 100)\n",
    "    y_boundary = (-weights[0] * x_boundary - bias) / weights[1]\n",
    "    return x_boundary, y_boundary\n",
    "\n",
    "# function for hyperplane representaion for new hyperplanes: input optimal_hyperplane\n",
    "def x_y_margin(weights, bias, delta_multiplier = 1, margin=0):\n",
    "    # Define the original decision boundary\n",
    "    x_boundary = np.linspace(0, 5, 100)\n",
    "\n",
    "    angle_radians = math.atan(weights[1] / weights[0])\n",
    "    print(angle_radians)\n",
    "    delta_y = (margin) / math.sin(angle_radians)\n",
    "\n",
    "    y_boundary = (-weights[0] * x_boundary - bias) / weights[1] + delta_y*delta_multiplier\n",
    "\n",
    "    return x_boundary, y_boundary\n",
    "\n",
    "\n",
    "# plotting the output\n",
    "plt.figure(figsize=(6, 5))\n",
    "plt.scatter(train_1['x1'], train_1['x2'], c=train_1['y'], marker='o')\n",
    "print(train_1)\n",
    "plt.xlabel('x1')\n",
    "plt.ylabel('x2')\n",
    "plt.axhline(0, color='grey', linewidth=0.5)\n",
    "plt.axvline(0, color='grey', linewidth=0.5)\n",
    "\n",
    "# old hyperplane \n",
    "x_old, y_old = x_y(w_old, b_old)\n",
    "plt.plot(x_old, y_old, label=f\"Original: {b0} + {b1}x1 + {b2}x2\", color='#ccc', linestyle='--')\n",
    "\n",
    "#new optimal hyperplane\n",
    "x_new, y_new = x_y((best_seperation[0],best_seperation[1]),best_seperation[2])\n",
    "plt.plot(x_new, y_new, label=f\"Original: {b0} + {b1}x1 + {b2}x2\", color='green', linestyle='-')\n",
    "\n",
    "\n",
    "x_new, y_new = x_y_margin((best_seperation[0],best_seperation[1]),best_seperation[2],1,best_margin)\n",
    "plt.plot(x_new, y_new, label=f\"Original: {b0} + {b1}x1 + {b2}x2\", color='green', linestyle='--')\n",
    "\n",
    "x_new, y_new = x_y_margin((best_seperation[0],best_seperation[1]),best_seperation[2],-1,best_margin)\n",
    "plt.plot(x_new, y_new, label=f\"Original: {b0} + {b1}x1 + {b2}x2\", color='green', linestyle='--')\n",
    "\n",
    "#def plane_test(optimal_hyperplane):\n",
    "#    x_new, y_new = x_y_new(optimal_hyperplane)\n",
    "#    plt.plot(x_new, y_new, label=\"new\", color='green', linestyle='--')\n",
    "\n",
    "\n",
    "# plane_test(optimal_hyperplane)\n",
    "\n",
    "\n",
    "# plt.legend()\n",
    "plt.show()"
   ]
  },
  {
   "cell_type": "markdown",
   "metadata": {},
   "source": [
    "## break - Old stuff below.\n",
    "Doesnt really work because the weights and biases are saved in different formats\n"
   ]
  },
  {
   "cell_type": "code",
   "execution_count": null,
   "metadata": {},
   "outputs": [
    {
     "name": "stderr",
     "output_type": "stream",
     "text": [
      "C:\\Users\\flo12\\AppData\\Local\\Temp\\ipykernel_21804\\569284083.py:2: RuntimeWarning: divide by zero encountered in scalar divide\n",
      "  normalizing_factor = b0/bias\n",
      "ic| normalizing_factor: inf\n",
      "ic| weights_normalized: array([ inf, -inf])\n"
     ]
    },
    {
     "name": "stdout",
     "output_type": "stream",
     "text": [
      "Normalizing factor: inf\n",
      "Final weights: [ inf -inf]\n",
      "Final bias: nan\n",
      "\n",
      "Hyperplane: nan + infx1 + -infx2\n"
     ]
    },
    {
     "name": "stderr",
     "output_type": "stream",
     "text": [
      "C:\\Users\\flo12\\AppData\\Local\\Temp\\ipykernel_21804\\569284083.py:8: RuntimeWarning: invalid value encountered in scalar multiply\n",
      "  bias_normalized = bias * normalizing_factor\n"
     ]
    },
    {
     "data": {
      "image/png": "[encoded data removed]",
      "text/plain": [
       "<Figure size 432x360 with 1 Axes>"
      ]
     },
     "metadata": {
      "needs_background": "light"
     },
     "output_type": "display_data"
    }
   ],
   "source": [
    "# First normalize the model to b0 so that the models b0 will be the same as the generated data b0\n",
    "normalizing_factor = b0/bias\n",
    "ic(normalizing_factor)\n",
    "\n",
    "weights_normalized = weights * normalizing_factor\n",
    "ic(weights_normalized)\n",
    "\n",
    "bias_normalized = bias * normalizing_factor\n",
    "\n",
    "print(f'Normalizing factor: {normalizing_factor}')\n",
    "print(f'Final weights: {weights_normalized}\\nFinal bias: {bias_normalized}\\n\\nHyperplane: {bias_normalized.round(2)} + {weights_normalized[0].round(2)}x1 + {weights_normalized[1].round(2)}x2')\n",
    "\n",
    "def x_y(weights, bias, margin=0): # plotting the output\n",
    "    x_boundary = np.linspace(0, 5, 100)\n",
    "    y_boundary = (-weights[0] * x_boundary - (bias + margin)) / weights[1]\n",
    "    return x_boundary, y_boundary\n",
    "\n",
    "# plotting the output\n",
    "plt.figure(figsize=(6, 5))\n",
    "plt.scatter(train_1['x1'], train_1['x2'], c=train_1['y'], marker='o')\n",
    "plt.xlabel('x1')\n",
    "plt.ylabel('x2')\n",
    "plt.axhline(0, color='grey', linewidth=0.5)\n",
    "plt.axvline(0, color='grey', linewidth=0.5)\n",
    "# plt.plot(x_boundary, y_boundary, label=f\"Result: {round(bias_normalized, 2)} + {round(weights_normalized[0], 2)}x1 + {weights_normalized[1].round(2)}x2\", color='green', linestyle='--')\n",
    "\n",
    "\n",
    "# old hyperplane \n",
    "x_old, y_old = x_y(w_old, b_old)\n",
    "plt.plot(x_old, y_old, label=f\"Original: {b0} + {b1}x1 + {b2}x2\", color='#ccc', linestyle='--')\n",
    "\n",
    "# new hyperplane\n",
    "# margin = 1\n",
    "# x_new, y_new = x_y(weights, bias)                                   # cre3ate the new line following the function perceptron_optimal\n",
    "# x_bu, y_bu = x_y(weights, bias, margin/normalizing_factor)          # adds margin to the new x_y defined line\n",
    "# x_bl, y_bl = x_y(weights, bias, -margin/normalizing_factor)         # same here\n",
    "\n",
    "# plt.plot(x_new, y_new, label=\"new\", color='green', linestyle='--')\n",
    "# plt.plot(x_bu, y_bu, label=f\"M = {margin}\", color='#999', linestyle='-')\n",
    "# plt.plot(x_bl, y_bl, color='#ccc', linestyle='-')\n",
    "\n",
    "plt.legend()\n",
    "plt.show()"
   ]
  },
  {
   "cell_type": "markdown",
   "metadata": {},
   "source": [
    "### c) Construct the set 'TP3-2' in an analogous way to how you constructed the set 'TP3-1' but this time include some examples that are misclassified near the separating hyperplane. Use a simple perceptron to separate the two classes. Comment on the results."
   ]
  },
  {
   "cell_type": "code",
   "execution_count": null,
   "metadata": {},
   "outputs": [
    {
     "data": {
      "image/png": "[encoded data removed]",
      "text/plain": [
       "<Figure size 800x600 with 1 Axes>"
      ]
     },
     "metadata": {},
     "output_type": "display_data"
    }
   ],
   "source": [
    "n_additional_points = round(n_items / 2)\n",
    "additional_data = []\n",
    "\n",
    "# Generate additional data points near the separating hyperplane\n",
    "for _ in range(n_additional_points):\n",
    "    x1_new = random.uniform(0, 5)\n",
    "    x2_new = random.uniform(0, 5)\n",
    "    \n",
    "    # Calculate the distance from the point to the separating hyperplane\n",
    "    distance = abs(b0 + b1 * x1_new + b2 * x2_new) / (b1 ** 2 + b2 ** 2) ** 0.5\n",
    "    \n",
    "    # Check if the distance is less than 0.5 (within 0.5 units from the hyperplane), if so, append.\n",
    "    if distance <= 0.5:\n",
    "        class_label = 1 if not (b0 + b1 * x1_new + b2 * x2_new) > 0 else -1\n",
    "        additional_data.append({'x1': x1_new, 'x2': x2_new, 'y': (class_label)}) # for some reason it does it oposite so -1 to fix\n",
    "\n",
    "\n",
    "additional_df = pd.DataFrame(additional_data)\n",
    "TP3_2 = pd.concat([TP3_2, additional_df], ignore_index=False)\n",
    "\n",
    "plotting(TP3_2, line=True, legend=True, title=\"Scatterplot with linear separator and noise\")"
   ]
  },
  {
   "cell_type": "markdown",
   "metadata": {},
   "source": [
    "### d) Use SVM to classify both set 'TP3-1' and set 'TP3-2'. Compare the results with those obtained in points a) and c).\n"
   ]
  },
  {
   "cell_type": "code",
   "execution_count": null,
   "metadata": {},
   "outputs": [],
   "source": [
    "data = TP3_2"
   ]
  },
  {
   "cell_type": "code",
   "execution_count": null,
   "metadata": {},
   "outputs": [
    {
     "data": {
      "image/png": "[encoded data removed]",
      "text/plain": [
       "<Figure size 800x600 with 1 Axes>"
      ]
     },
     "metadata": {},
     "output_type": "display_data"
    },
    {
     "name": "stdout",
     "output_type": "stream",
     "text": [
      "              precision    recall  f1-score   support\n",
      "\n",
      "          -1       1.00      1.00      1.00         9\n",
      "           1       1.00      1.00      1.00        11\n",
      "\n",
      "    accuracy                           1.00        20\n",
      "   macro avg       1.00      1.00      1.00        20\n",
      "weighted avg       1.00      1.00      1.00        20\n",
      "\n"
     ]
    }
   ],
   "source": [
    "def svm_train(data, learning_rate=0.01, lambda_param=0.01, num_epochs=1000, tolerance=1e-5):\n",
    "    # Extract features and labels\n",
    "    X = data[['x1', 'x2']].values\n",
    "    y = data['y'].values\n",
    "\n",
    "    # Initialize weights and bias\n",
    "    w = np.zeros(X.shape[1])\n",
    "    b = 0\n",
    "\n",
    "    for epoch in range(num_epochs):\n",
    "        gradient_w = np.zeros(w.shape)\n",
    "        gradient_b = 0\n",
    "        cost = 0\n",
    "\n",
    "        for i in range(len(X)):\n",
    "            decision = y[i] * (np.dot(w, X[i]) + b)\n",
    "    \n",
    "            if decision < 1:\n",
    "                # Misclassified point\n",
    "                gradient_w += (X[i] * y[i])\n",
    "                gradient_b += y[i]\n",
    "                cost += 1 - decision\n",
    "\n",
    "        # Regularization term\n",
    "        gradient_w -= 2 * lambda_param * w\n",
    "\n",
    "        # Update weights and bias\n",
    "        w = w + learning_rate * gradient_w\n",
    "        b = b + learning_rate * gradient_b\n",
    "\n",
    "        # Check convergence\n",
    "        if cost < tolerance:\n",
    "            break\n",
    "\n",
    "    return w, b\n",
    "\n",
    "\n",
    "w, b = svm_train(data, learning_rate=0.01, lambda_param=0.01)\n",
    "\n",
    "plotting(data, b0=b, b1=w[0], b2=w[1], \n",
    "         subtitle=True, \n",
    "         title='Using SVM to classify the data')\n",
    "\n",
    "report(data, w, b)\n"
   ]
  },
  {
   "cell_type": "code",
   "execution_count": null,
   "metadata": {},
   "outputs": [],
   "source": []
  }
 ],
 "metadata": {
  "kernelspec": {
   "display_name": "gpt",
   "language": "python",
   "name": "python3"
  },
  "language_info": {
   "codemirror_mode": {
    "name": "ipython",
    "version": 3
   },
   "file_extension": ".py",
   "mimetype": "text/x-python",
   "name": "python",
   "nbconvert_exporter": "python",
   "pygments_lexer": "ipython3",
   "version": "3.10.11"
  },
  "orig_nbformat": 4
 },
 "nbformat": 4,
 "nbformat_minor": 2
}
