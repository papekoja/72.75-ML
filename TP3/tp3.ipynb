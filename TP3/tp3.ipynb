{
 "cells": [
  {
   "cell_type": "code",
   "execution_count": 21,
   "metadata": {},
   "outputs": [],
   "source": [
    "import math\n",
    "import pandas as pd\n",
    "import numpy as np\n",
    "import matplotlib.pyplot as plt\n",
    "\n",
    "import kernal"
   ]
  },
  {
   "cell_type": "markdown",
   "metadata": {},
   "source": [
    "# Ej 1"
   ]
  },
  {
   "cell_type": "code",
   "execution_count": 22,
   "metadata": {},
   "outputs": [
    {
     "ename": "ImportError",
     "evalue": "cannot import name 'my_function' from 'kernal' (/Users/stig/Desktop/- TU:e/5Q1 ITBA Buenos Aires/72.75 Aprendizarje Automatico/72.75-ML/TP3/kernal.py)",
     "output_type": "error",
     "traceback": [
      "\u001b[0;31m---------------------------------------------------------------------------\u001b[0m",
      "\u001b[0;31mImportError\u001b[0m                               Traceback (most recent call last)",
      "\u001b[1;32m/Users/stig/Desktop/- TU:e/5Q1 ITBA Buenos Aires/72.75 Aprendizarje Automatico/72.75-ML/TP3/tp3.ipynb Cell 3\u001b[0m line \u001b[0;36m1\n\u001b[0;32m----> <a href='vscode-notebook-cell:/Users/stig/Desktop/-%20TU%3Ae/5Q1%20ITBA%20Buenos%20Aires/72.75%20Aprendizarje%20Automatico/72.75-ML/TP3/tp3.ipynb#W0sZmlsZQ%3D%3D?line=0'>1</a>\u001b[0m \u001b[39mfrom\u001b[39;00m \u001b[39mkernal\u001b[39;00m \u001b[39mimport\u001b[39;00m my_function\n\u001b[1;32m      <a href='vscode-notebook-cell:/Users/stig/Desktop/-%20TU%3Ae/5Q1%20ITBA%20Buenos%20Aires/72.75%20Aprendizarje%20Automatico/72.75-ML/TP3/tp3.ipynb#W0sZmlsZQ%3D%3D?line=2'>3</a>\u001b[0m \u001b[39m# Call the function from script1\u001b[39;00m\n\u001b[1;32m      <a href='vscode-notebook-cell:/Users/stig/Desktop/-%20TU%3Ae/5Q1%20ITBA%20Buenos%20Aires/72.75%20Aprendizarje%20Automatico/72.75-ML/TP3/tp3.ipynb#W0sZmlsZQ%3D%3D?line=3'>4</a>\u001b[0m my_function()\n",
      "\u001b[0;31mImportError\u001b[0m: cannot import name 'my_function' from 'kernal' (/Users/stig/Desktop/- TU:e/5Q1 ITBA Buenos Aires/72.75 Aprendizarje Automatico/72.75-ML/TP3/kernal.py)"
     ]
    }
   ],
   "source": []
  },
  {
   "cell_type": "code",
   "execution_count": null,
   "metadata": {},
   "outputs": [],
   "source": []
  }
 ],
 "metadata": {
  "kernelspec": {
   "display_name": "gpt",
   "language": "python",
   "name": "python3"
  },
  "language_info": {
   "codemirror_mode": {
    "name": "ipython",
    "version": 3
   },
   "file_extension": ".py",
   "mimetype": "text/x-python",
   "name": "python",
   "nbconvert_exporter": "python",
   "pygments_lexer": "ipython3",
   "version": "3.10.12"
  },
  "orig_nbformat": 4
 },
 "nbformat": 4,
 "nbformat_minor": 2
}
