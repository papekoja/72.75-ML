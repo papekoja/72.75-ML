{
 "cells": [
  {
   "cell_type": "code",
   "execution_count": 2,
   "metadata": {},
   "outputs": [],
   "source": [
    "import pandas as pd\n",
    "import matplotlib.pyplot as plt\n",
    "\n",
    "import seaborn as sns\n"
   ]
  },
  {
   "cell_type": "code",
   "execution_count": 7,
   "metadata": {},
   "outputs": [
    {
     "name": "stdout",
     "output_type": "stream",
     "text": [
      "Probability P(not admitted|rank = 1) = 0.2135350987810004\n"
     ]
    }
   ],
   "source": [
    "df = pd.read_csv('data.csv')\n",
    "\n",
    "# Calculate the probability that a person who comes from a rank 1 school has not been admitted to the university.\n",
    "\n",
    "# Prior probability\n",
    "p_admit = df['admit'].value_counts()[1] / df['admit'].count()\n",
    "\n",
    "# Posterior probability  \n",
    "gre_less_eq_500 = df[df['gre'] <= 500]\n",
    "gre_more_500 = df[df['gre'] > 500]\n",
    "\n",
    "not_admited = df[df['admit'] == 0]\n",
    "\n",
    "# count rank = 1 in not_admited\n",
    "p1 = not_admited[not_admited['rank'] == 1]['rank'].count() / not_admited['rank'].count()\n",
    "p2 = p_admit\n",
    "\n",
    "# give the probability of rank=1 in df\n",
    "p3 = df[df['rank'] == 1]['rank'].count() / df['rank'].count()\n",
    "\n",
    "P = (p1*p2)/p3\n",
    "\n",
    "print(f\"Probability P(not admitted|rank = 1) = {P}\")"
   ]
  },
  {
   "cell_type": "code",
   "execution_count": null,
   "metadata": {},
   "outputs": [],
   "source": []
  }
 ],
 "metadata": {
  "kernelspec": {
   "display_name": "AI_project",
   "language": "python",
   "name": "python3"
  },
  "language_info": {
   "codemirror_mode": {
    "name": "ipython",
    "version": 3
   },
   "file_extension": ".py",
   "mimetype": "text/x-python",
   "name": "python",
   "nbconvert_exporter": "python",
   "pygments_lexer": "ipython3",
   "version": "3.9.13"
  },
  "orig_nbformat": 4
 },
 "nbformat": 4,
 "nbformat_minor": 2
}
