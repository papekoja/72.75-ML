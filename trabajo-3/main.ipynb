{
 "cells": [
  {
   "cell_type": "code",
   "execution_count": 8,
   "metadata": {},
   "outputs": [],
   "source": [
    "import pandas as pd\n",
    "import matplotlib.pyplot as plt\n",
    "\n",
    "import seaborn as sns\n"
   ]
  },
  {
   "cell_type": "markdown",
   "metadata": {},
   "source": [
    "# Question A\n",
    "Calculate the probability that a person who comes from a rank 1 school has not been admitted to the university"
   ]
  },
  {
   "cell_type": "code",
   "execution_count": 40,
   "metadata": {},
   "outputs": [
    {
     "name": "stdout",
     "output_type": "stream",
     "text": [
      "Probability P(not admitted|rank = 1) = 0.10256410256410256\n"
     ]
    }
   ],
   "source": [
    "df = pd.read_csv('data.csv')\n",
    "\n",
    "# Calculate the probability that a person who comes from a rank 1 school has not been admitted to the university.\n",
    "\n",
    "# Prior probability\n",
    "p_admit = 1 - df['admit'].value_counts()[1] / df['admit'].count()\n",
    "\n",
    "# Posterior probability  \n",
    "gre_less_eq_500 = df[df['gre'] <= 500]\n",
    "gre_more_500 = df[df['gre'] > 500]\n",
    "\n",
    "not_admited = df[df['admit'] == 0]\n",
    "\n",
    "# count rank = 1 in not_admited\n",
    "p1 = not_admited[not_admited['rank'] == 1]['rank'].count() / not_admited['rank'].count()\n",
    "p2 = p_admit\n",
    "\n",
    "# give the probability of rank=1 in df\n",
    "p3 = df[df['rank'] == 1]['rank'].count() / df['rank'].count()\n",
    "\n",
    "P = (p1*p2)/p3\n",
    "\n",
    "print(f\"Probability P(not admitted|rank = 1) = {p1}\")"
   ]
  },
  {
   "cell_type": "markdown",
   "metadata": {},
   "source": [
    "# Question B\n",
    "Calculate the probability that a person who went to a rank 2 school, has GRE = 450 and GPA = 3.5 will be admitted to the university.\n"
   ]
  },
  {
   "cell_type": "code",
   "execution_count": 54,
   "metadata": {},
   "outputs": [
    {
     "name": "stdout",
     "output_type": "stream",
     "text": [
      "Probability P(admitted|R2 , greL, gpaH) = 0.425197\n"
     ]
    }
   ],
   "source": [
    "# Bayes' theorem\n",
    "# P = ( p1 * p2 ) / p3\n",
    "\n",
    "# p1 = P( R2 , greL, gpaH | A1)\n",
    "# p1 = P( p11 , p12, p13 | A1)\n",
    "\n",
    "# Here i create a subset only containing admitted = 1\n",
    "A1 = df[df['admit'] == 1]\n",
    "\n",
    "# below it says something like ('subset X' / 'total X') to get the probabilities\n",
    "p11 = A1[A1['rank'] == 2]['rank'].count() / A1['rank'].count()\n",
    "p12 = A1[A1['gre'] < 500]['rank'].count() / A1['rank'].count()\n",
    "p13 = A1[A1['gpa'] >= 3]['rank'].count() / A1['rank'].count()\n",
    "\n",
    "# Now construct the whole p1 as :  p1 = P( p11 , p12, p13 | A1)\n",
    "p1 = p11 * p12 * p13\n",
    "\n",
    "\n",
    "# p2 is just the probability that it's admitted\n",
    "p2 = A1.count() / df.count()\n",
    "\n",
    "\n",
    "# P3 is \n",
    "p31 = df[df['rank'] == 2]['rank'].count() / df['rank'].count()\n",
    "p32 = df[df['gre'] < 500]['rank'].count() / df['rank'].count()\n",
    "p33 = df[df['gpa'] >= 3]['rank'].count() / df['rank'].count()\n",
    "\n",
    "p3 = p31 * p32 * p33\n",
    "\n",
    "\n",
    "# Now make the entire bayes' theorem\n",
    "P = (p1 * p2) / p3\n",
    "print(f\"Probability P(admitted|R2 , greL, gpaH) = {p11.round(6)}\")\n"
   ]
  },
  {
   "cell_type": "code",
   "execution_count": null,
   "metadata": {},
   "outputs": [],
   "source": []
  },
  {
   "cell_type": "code",
   "execution_count": null,
   "metadata": {},
   "outputs": [],
   "source": []
  }
 ],
 "metadata": {
  "kernelspec": {
   "display_name": "AI_project",
   "language": "python",
   "name": "python3"
  },
  "language_info": {
   "codemirror_mode": {
    "name": "ipython",
    "version": 3
   },
   "file_extension": ".py",
   "mimetype": "text/x-python",
   "name": "python",
   "nbconvert_exporter": "python",
   "pygments_lexer": "ipython3",
   "version": "3.9.13"
  },
  "orig_nbformat": 4
 },
 "nbformat": 4,
 "nbformat_minor": 2
}
