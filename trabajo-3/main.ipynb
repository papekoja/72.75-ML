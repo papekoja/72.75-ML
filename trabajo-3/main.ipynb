{
 "cells": [
  {
   "cell_type": "code",
   "execution_count": 52,
   "metadata": {},
   "outputs": [
    {
     "ename": "ModuleNotFoundError",
     "evalue": "No module named 'sklearn'",
     "output_type": "error",
     "traceback": [
      "\u001b[0;31m---------------------------------------------------------------------------\u001b[0m",
      "\u001b[0;31mModuleNotFoundError\u001b[0m                       Traceback (most recent call last)",
      "Cell \u001b[0;32mIn[52], line 3\u001b[0m\n\u001b[1;32m      1\u001b[0m \u001b[39mimport\u001b[39;00m \u001b[39mpandas\u001b[39;00m \u001b[39mas\u001b[39;00m \u001b[39mpd\u001b[39;00m\n\u001b[1;32m      2\u001b[0m \u001b[39mimport\u001b[39;00m \u001b[39mmatplotlib\u001b[39;00m\u001b[39m.\u001b[39;00m\u001b[39mpyplot\u001b[39;00m \u001b[39mas\u001b[39;00m \u001b[39mplt\u001b[39;00m\n\u001b[0;32m----> 3\u001b[0m \u001b[39mfrom\u001b[39;00m \u001b[39msklearn\u001b[39;00m\u001b[39m.\u001b[39;00m\u001b[39mmodel_selection\u001b[39;00m \u001b[39mimport\u001b[39;00m train_test_split\n\u001b[1;32m      4\u001b[0m \u001b[39mimport\u001b[39;00m \u001b[39mseaborn\u001b[39;00m \u001b[39mas\u001b[39;00m \u001b[39msns\u001b[39;00m\n",
      "\u001b[0;31mModuleNotFoundError\u001b[0m: No module named 'sklearn'"
     ]
    }
   ],
   "source": [
    "import pandas as pd\n",
    "import matplotlib.pyplot as plt\n",
    "from sklearn.model_selection import train_test_split\n",
    "import seaborn as sns\n"
   ]
  },
  {
   "cell_type": "code",
   "execution_count": 57,
   "metadata": {},
   "outputs": [
    {
     "name": "stdout",
     "output_type": "stream",
     "text": [
      "0.10256410256410256\n"
     ]
    }
   ],
   "source": [
    "df = pd.read_csv('3-binary(TP1).csv', sep=',')\n",
    "\n",
    "# Calculate the probability that a person who comes from a rank 1 school has not been admitted to the university.\n",
    "\n",
    "# Prior probability\n",
    "p_admit = df['admit'].value_counts()[1] / df['admit'].count()\n",
    "\n",
    "# Posterior probability  \n",
    "gre_less_eq_500 = df[df['gre'] <= 500]\n",
    "gre_more_500 = df[df['gre'] > 500]\n",
    "\n",
    "\n",
    "# print(f\"P(0) = {p_admit}\\n\\n{gre_less_eq_500['admit'].value_counts()}\\n{gre_more_500['admit'].value_counts()}\\n\")\n",
    "\n",
    "not_admited = df[df['admit'] == 0]\n",
    "\n",
    "# count rank = 1 in not_admited\n",
    "p1 = not_admited[not_admited['rank'] == 1]['rank'].count() / not_admited['rank'].count()\n",
    "print(p1)\n",
    "\n",
    "p2 = p_admit\n",
    "\n",
    "# give the probability of rank=1 in df\n",
    "p3 = df[df['rank'] == 1]['rank'].count() / df['rank'].count()\n",
    "\n",
    "P = (p1*p2)/p3"
   ]
  },
  {
   "cell_type": "code",
   "execution_count": null,
   "metadata": {},
   "outputs": [],
   "source": []
  }
 ],
 "metadata": {
  "kernelspec": {
   "display_name": "AI_project",
   "language": "python",
   "name": "python3"
  },
  "language_info": {
   "codemirror_mode": {
    "name": "ipython",
    "version": 3
   },
   "file_extension": ".py",
   "mimetype": "text/x-python",
   "name": "python",
   "nbconvert_exporter": "python",
   "pygments_lexer": "ipython3",
   "version": "3.9.13"
  },
  "orig_nbformat": 4
 },
 "nbformat": 4,
 "nbformat_minor": 2
}
