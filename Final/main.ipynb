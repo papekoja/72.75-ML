{
 "cells": [
  {
   "cell_type": "markdown",
   "metadata": {},
   "source": [
    "# Final TP\n",
    "\n",
    "- XGBoost and AdaBoost"
   ]
  },
  {
   "cell_type": "code",
   "execution_count": 1,
   "metadata": {},
   "outputs": [],
   "source": [
    "# % pip install xgboost"
   ]
  },
  {
   "cell_type": "code",
   "execution_count": 2,
   "metadata": {},
   "outputs": [],
   "source": [
    "from xgboost import XGBClassifier\n",
    "from sklearn.model_selection import train_test_split\n",
    "from sklearn.metrics import accuracy_score\n",
    "from sklearn.preprocessing import StandardScaler"
   ]
  },
  {
   "cell_type": "markdown",
   "metadata": {},
   "source": [
    "# Feature extraction\n",
    "\n",
    "**Time-Based Features:**\n",
    "- Duration of sleep cycles.\n",
    "- Time spent in different sleep phases (light sleep, deep sleep, REM).\n",
    "- Sleep onset latency (time taken to fall asleep).\n",
    "\n",
    "**Frequency-Based Features:**\n",
    "- Heart rate variability during different sleep phases.\n",
    "- Respiratory rate.\n",
    "\n",
    "**Statistical Features:**\n",
    "- Mean, median, and standard deviation of various physiological signals during sleep.\n",
    "- Signal entropy to capture complexity.\n",
    "\n",
    "**Temporal Patterns:**\n",
    "- Trends and patterns in sleep cycles over multiple nights.\n",
    "\n",
    "**Previous Sleep History:**\n",
    "- Consider features related to the sleep pattern from the previous night.\n",
    "\n",
    "**Biometric Data:**\n",
    "- If available, include biometric data like age, gender, and BMI."
   ]
  },
  {
   "cell_type": "code",
   "execution_count": null,
   "metadata": {},
   "outputs": [],
   "source": []
  }
 ],
 "metadata": {
  "kernelspec": {
   "display_name": "gpt",
   "language": "python",
   "name": "python3"
  },
  "language_info": {
   "codemirror_mode": {
    "name": "ipython",
    "version": 3
   },
   "file_extension": ".py",
   "mimetype": "text/x-python",
   "name": "python",
   "nbconvert_exporter": "python",
   "pygments_lexer": "ipython3",
   "version": "3.10.12"
  }
 },
 "nbformat": 4,
 "nbformat_minor": 2
}
