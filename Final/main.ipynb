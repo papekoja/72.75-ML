{
 "cells": [
  {
   "cell_type": "markdown",
   "metadata": {},
   "source": [
    "# Final TP\n",
    "\n",
    "- XGBoost and AdaBoost"
   ]
  },
  {
   "cell_type": "code",
   "execution_count": 1,
   "metadata": {},
   "outputs": [],
   "source": [
    "import matplotlib.pyplot as plt\n",
    "import numpy as np\n",
    "import datetime\n",
    "import scipy\n",
    "import mne\n",
    "\n",
    "from collections import Counter\n",
    "from xgboost import XGBClassifier\n",
    "from sklearn.model_selection import train_test_split\n",
    "from sklearn.metrics import accuracy_score\n",
    "from sklearn.preprocessing import StandardScaler\n",
    "from mne.datasets.sleep_physionet.age import fetch_data\n",
    "\n",
    "import epoch"
   ]
  },
  {
   "cell_type": "code",
   "execution_count": 2,
   "metadata": {},
   "outputs": [
    {
     "ename": "NameError",
     "evalue": "name 'psg_data' is not defined",
     "output_type": "error",
     "traceback": [
      "\u001b[0;31m---------------------------------------------------------------------------\u001b[0m",
      "\u001b[0;31mNameError\u001b[0m                                 Traceback (most recent call last)",
      "\u001b[1;32m/Users/stig/Desktop/- TU:e/5Q1 ITBA Buenos Aires/72.75 Aprendizarje Automatico/72.75-ML/Final/main.ipynb Cell 3\u001b[0m line \u001b[0;36m2\n\u001b[1;32m     <a href='vscode-notebook-cell:/Users/stig/Desktop/-%20TU%3Ae/5Q1%20ITBA%20Buenos%20Aires/72.75%20Aprendizarje%20Automatico/72.75-ML/Final/main.ipynb#W2sZmlsZQ%3D%3D?line=13'>14</a>\u001b[0m hypnogram_file \u001b[39m=\u001b[39m \u001b[39m\"\u001b[39m\u001b[39mdata/SC4001EC-Hypnogram.edf\u001b[39m\u001b[39m\"\u001b[39m\n\u001b[1;32m     <a href='vscode-notebook-cell:/Users/stig/Desktop/-%20TU%3Ae/5Q1%20ITBA%20Buenos%20Aires/72.75%20Aprendizarje%20Automatico/72.75-ML/Final/main.ipynb#W2sZmlsZQ%3D%3D?line=15'>16</a>\u001b[0m \u001b[39m# psg_data = mne.io.read_raw_edf(psg_file)\u001b[39;00m\n\u001b[1;32m     <a href='vscode-notebook-cell:/Users/stig/Desktop/-%20TU%3Ae/5Q1%20ITBA%20Buenos%20Aires/72.75%20Aprendizarje%20Automatico/72.75-ML/Final/main.ipynb#W2sZmlsZQ%3D%3D?line=16'>17</a>\u001b[0m \u001b[39m# hypnogram_data = mne.read_annotations(hypnogram_file)\u001b[39;00m\n\u001b[1;32m     <a href='vscode-notebook-cell:/Users/stig/Desktop/-%20TU%3Ae/5Q1%20ITBA%20Buenos%20Aires/72.75%20Aprendizarje%20Automatico/72.75-ML/Final/main.ipynb#W2sZmlsZQ%3D%3D?line=17'>18</a>\u001b[0m \n\u001b[1;32m     <a href='vscode-notebook-cell:/Users/stig/Desktop/-%20TU%3Ae/5Q1%20ITBA%20Buenos%20Aires/72.75%20Aprendizarje%20Automatico/72.75-ML/Final/main.ipynb#W2sZmlsZQ%3D%3D?line=18'>19</a>\u001b[0m \u001b[39m# Sampling frequency\u001b[39;00m\n\u001b[0;32m---> <a href='vscode-notebook-cell:/Users/stig/Desktop/-%20TU%3Ae/5Q1%20ITBA%20Buenos%20Aires/72.75%20Aprendizarje%20Automatico/72.75-ML/Final/main.ipynb#W2sZmlsZQ%3D%3D?line=19'>20</a>\u001b[0m fs \u001b[39m=\u001b[39m psg_data\u001b[39m.\u001b[39minfo\u001b[39m.\u001b[39mget(\u001b[39m'\u001b[39m\u001b[39msfreq\u001b[39m\u001b[39m'\u001b[39m)\n\u001b[1;32m     <a href='vscode-notebook-cell:/Users/stig/Desktop/-%20TU%3Ae/5Q1%20ITBA%20Buenos%20Aires/72.75%20Aprendizarje%20Automatico/72.75-ML/Final/main.ipynb#W2sZmlsZQ%3D%3D?line=21'>22</a>\u001b[0m \u001b[39mprint\u001b[39m(\u001b[39mf\u001b[39m\u001b[39m\"\u001b[39m\u001b[39m\\n\u001b[39;00m\u001b[39mfs = \u001b[39m\u001b[39m{\u001b[39;00mfs\u001b[39m}\u001b[39;00m\u001b[39m\"\u001b[39m)\n",
      "\u001b[0;31mNameError\u001b[0m: name 'psg_data' is not defined"
     ]
    }
   ],
   "source": [
    "\"\"\"\n",
    "psg_data\n",
    "    The psg_data variable contains polysomnography data, which typically includes multiple physiological signals such as EEG, EOG, and EMG, recorded during sleep.\n",
    "\n",
    "hypnogram_data\n",
    "    The hypnogram_data variable represents annotations or labels associated with sleep stages, providing information about the temporal distribution of wakefulness, different sleep stages (NREM and REM), and transitions during a sleep recording.\n",
    "    \n",
    "fs \n",
    "    represents the sampling frequency (or sampling rate) of the polysomnography (PSG) data, indicating the number of samples per second in the signal.\n",
    "\"\"\"\n",
    "\n",
    "# Reading data (psg) and hypnogram (labels)\n",
    "psg_file = \"data/SC4001E0-PSG.edf\"\n",
    "hypnogram_file = \"data/SC4001EC-Hypnogram.edf\"\n",
    "\n",
    "# psg_data = mne.io.read_raw_edf(psg_file)\n",
    "# hypnogram_data = mne.read_annotations(hypnogram_file)"
   ]
  },
  {
   "cell_type": "code",
   "execution_count": 4,
   "metadata": {},
   "outputs": [
    {
     "name": "stdout",
     "output_type": "stream",
     "text": [
      "Extracting EDF parameters from /Users/stig/Desktop/- TU:e/5Q1 ITBA Buenos Aires/72.75 Aprendizarje Automatico/72.75-ML/final/data/SC4001E0-PSG.edf...\n",
      "EDF file detected\n",
      "Setting channel info structure...\n",
      "Creating raw.info structure...\n"
     ]
    },
    {
     "name": "stderr",
     "output_type": "stream",
     "text": [
      "/Users/stig/Desktop/- TU:e/5Q1 ITBA Buenos Aires/72.75 Aprendizarje Automatico/72.75-ML/final/epoch.py:62: RuntimeWarning: Limited 1 annotation(s) that were expanding outside the data range.\n",
      "  psg_data_raw.set_annotations(hypnogramm_annotations)\n"
     ]
    }
   ],
   "source": [
    "s = epoch.sleepRecording()\n",
    "s.init_from_file(\"data/SC4001E0-PSG.edf\", \"data/SC4001EC-Hypnogram.edf\")"
   ]
  },
  {
   "cell_type": "code",
   "execution_count": 5,
   "metadata": {},
   "outputs": [
    {
     "name": "stdout",
     "output_type": "stream",
     "text": [
      "Sleep stage W: 1997\n",
      "Sleep stage 1: 58\n",
      "Sleep stage 2: 250\n",
      "Sleep stage 3: 101\n",
      "Sleep stage 4: 119\n",
      "Sleep stage R: 125\n"
     ]
    }
   ],
   "source": [
    "# Checking how much of each label we have in the dataset\n",
    "\n",
    "label_list = [s.epochs[i].label for i in range(len(s.epochs))]\n",
    "label_counts = Counter(label_list)\n",
    "for label, count in label_counts.items():\n",
    "    print(f\"{label}: {count}\")"
   ]
  },
  {
   "cell_type": "code",
   "execution_count": 7,
   "metadata": {},
   "outputs": [
    {
     "data": {
      "text/plain": [
       "['EEG Fpz-Cz',\n",
       " 'EEG Pz-Oz',\n",
       " 'EOG horizontal',\n",
       " 'Resp oro-nasal',\n",
       " 'EMG submental',\n",
       " 'Temp rectal',\n",
       " 'Event marker']"
      ]
     },
     "execution_count": 7,
     "metadata": {},
     "output_type": "execute_result"
    }
   ],
   "source": [
    "s.epochs[10].ch_names"
   ]
  },
  {
   "cell_type": "code",
   "execution_count": null,
   "metadata": {},
   "outputs": [
    {
     "ename": "NameError",
     "evalue": "name 'EEG_Fpz_Cz' is not defined",
     "output_type": "error",
     "traceback": [
      "\u001b[0;31m---------------------------------------------------------------------------\u001b[0m",
      "\u001b[0;31mNameError\u001b[0m                                 Traceback (most recent call last)",
      "\u001b[1;32m/Users/stig/Desktop/- TU:e/5Q1 ITBA Buenos Aires/72.75 Aprendizarje Automatico/72.75-ML/Final/main.ipynb Cell 7\u001b[0m line \u001b[0;36m5\n\u001b[1;32m      <a href='vscode-notebook-cell:/Users/stig/Desktop/-%20TU%3Ae/5Q1%20ITBA%20Buenos%20Aires/72.75%20Aprendizarje%20Automatico/72.75-ML/Final/main.ipynb#W6sZmlsZQ%3D%3D?line=2'>3</a>\u001b[0m wn \u001b[39m=\u001b[39m [\u001b[39m1\u001b[39m,\u001b[39m10\u001b[39m] \u001b[39m# Frecuencias de corte del filtro\u001b[39;00m\n\u001b[1;32m      <a href='vscode-notebook-cell:/Users/stig/Desktop/-%20TU%3Ae/5Q1%20ITBA%20Buenos%20Aires/72.75%20Aprendizarje%20Automatico/72.75-ML/Final/main.ipynb#W6sZmlsZQ%3D%3D?line=3'>4</a>\u001b[0m sos \u001b[39m=\u001b[39m scipy\u001b[39m.\u001b[39msignal\u001b[39m.\u001b[39mbutter(N, wn, btype \u001b[39m=\u001b[39m \u001b[39m'\u001b[39m\u001b[39mbandpass\u001b[39m\u001b[39m'\u001b[39m, output \u001b[39m=\u001b[39m \u001b[39m'\u001b[39m\u001b[39msos\u001b[39m\u001b[39m'\u001b[39m, fs \u001b[39m=\u001b[39m fs) \u001b[39m# Diseño el filtro\u001b[39;00m\n\u001b[0;32m----> <a href='vscode-notebook-cell:/Users/stig/Desktop/-%20TU%3Ae/5Q1%20ITBA%20Buenos%20Aires/72.75%20Aprendizarje%20Automatico/72.75-ML/Final/main.ipynb#W6sZmlsZQ%3D%3D?line=4'>5</a>\u001b[0m filtrada \u001b[39m=\u001b[39m scipy\u001b[39m.\u001b[39msignal\u001b[39m.\u001b[39msosfiltfilt(sos, EEG_Fpz_Cz) \u001b[39m# Filtro la señal\u001b[39;00m\n\u001b[1;32m      <a href='vscode-notebook-cell:/Users/stig/Desktop/-%20TU%3Ae/5Q1%20ITBA%20Buenos%20Aires/72.75%20Aprendizarje%20Automatico/72.75-ML/Final/main.ipynb#W6sZmlsZQ%3D%3D?line=6'>7</a>\u001b[0m plt\u001b[39m.\u001b[39mfigure(figsize\u001b[39m=\u001b[39m(\u001b[39m30\u001b[39m,\u001b[39m8\u001b[39m))\n\u001b[1;32m      <a href='vscode-notebook-cell:/Users/stig/Desktop/-%20TU%3Ae/5Q1%20ITBA%20Buenos%20Aires/72.75%20Aprendizarje%20Automatico/72.75-ML/Final/main.ipynb#W6sZmlsZQ%3D%3D?line=7'>8</a>\u001b[0m plt\u001b[39m.\u001b[39mplot(t[epoch_start:epoch_end] ,filtrada[epoch_start:epoch_end])\n",
      "\u001b[0;31mNameError\u001b[0m: name 'EEG_Fpz_Cz' is not defined"
     ]
    }
   ],
   "source": [
    "# FILTRADO\n",
    "\n",
    "filtered_item = s.epochs[]\n",
    "\n",
    "N = 5 # Orden del filtro\n",
    "wn = [1,10] # Frecuencias de corte del filtro\n",
    "sos = scipy.signal.butter(N, wn, btype = 'bandpass', output = 'sos', fs = fs) # Diseño el filtro\n",
    "filtrada = scipy.signal.sosfiltfilt(sos, EEG_Fpz_Cz) # Filtro la señal\n",
    "\n",
    "plt.figure(figsize=(30,8))\n",
    "plt.plot(t[epoch_start:epoch_end] ,filtrada[epoch_start:epoch_end])\n",
    "plt.show()"
   ]
  },
  {
   "cell_type": "markdown",
   "metadata": {},
   "source": [
    "# Feature extraction\n",
    "\n",
    "**Time-Based Features:**\n",
    "- Duration of sleep cycles.\n",
    "- Time spent in different sleep phases (light sleep, deep sleep, REM).\n",
    "- Sleep onset latency (time taken to fall asleep).\n",
    "\n",
    "**Frequency-Based Features:**\n",
    "- Heart rate variability during different sleep phases.\n",
    "- Respiratory rate.\n",
    "\n",
    "**Statistical Features:**\n",
    "- Mean, median, and standard deviation of various physiological signals during sleep.\n",
    "- Signal entropy to capture complexity.\n",
    "\n",
    "**Temporal Patterns:**\n",
    "- Trends and patterns in sleep cycles over multiple nights.\n",
    "\n",
    "**Previous Sleep History:**\n",
    "- Consider features related to the sleep pattern from the previous night.\n",
    "\n",
    "**Biometric Data:**\n",
    "- If available, include biometric data like age, gender, and BMI."
   ]
  },
  {
   "cell_type": "code",
   "execution_count": null,
   "metadata": {},
   "outputs": [],
   "source": []
  }
 ],
 "metadata": {
  "kernelspec": {
   "display_name": "gpt",
   "language": "python",
   "name": "python3"
  },
  "language_info": {
   "codemirror_mode": {
    "name": "ipython",
    "version": 3
   },
   "file_extension": ".py",
   "mimetype": "text/x-python",
   "name": "python",
   "nbconvert_exporter": "python",
   "pygments_lexer": "ipython3",
   "version": "3.10.12"
  }
 },
 "nbformat": 4,
 "nbformat_minor": 2
}
