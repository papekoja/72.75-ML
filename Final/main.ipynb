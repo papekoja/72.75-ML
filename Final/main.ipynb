{
 "cells": [
  {
   "cell_type": "markdown",
   "metadata": {},
   "source": [
    "# Final TP\n",
    "\n",
    "- XGBoost and AdaBoost"
   ]
  },
  {
   "cell_type": "code",
   "execution_count": 51,
   "metadata": {},
   "outputs": [],
   "source": [
    "import matplotlib.pyplot as plt\n",
    "import numpy as np\n",
    "import pandas as pd\n",
    "import mne\n",
    "\n",
    "from collections import Counter\n",
    "from itertools import product\n",
    "\n",
    "from xgboost import XGBClassifier\n",
    "from sklearn.metrics import accuracy_score, confusion_matrix\n",
    "from sklearn.pipeline import Pipeline\n",
    "from sklearn.model_selection import train_test_split, GridSearchCV\n",
    "from sklearn.preprocessing import StandardScaler\n",
    "from sklearn.preprocessing import LabelEncoder\n",
    "from matplotlib.colors import LogNorm\n",
    "\n",
    "from mne.datasets.sleep_physionet.age import fetch_data\n",
    "\n",
    "import epoch\n",
    "from createFeatures import create_features_recording_session"
   ]
  },
  {
   "cell_type": "code",
   "execution_count": 11,
   "metadata": {},
   "outputs": [],
   "source": [
    "\"\"\"\n",
    "psg_data\n",
    "    The psg_data variable contains polysomnography data, which typically includes multiple physiological signals such as EEG, EOG, and EMG, recorded during sleep.\n",
    "\n",
    "hypnogram_data\n",
    "    The hypnogram_data variable represents annotations or labels associated with sleep stages, providing information about the temporal distribution of wakefulness, different sleep stages (NREM and REM), and transitions during a sleep recording.\n",
    "    \n",
    "fs \n",
    "    represents the sampling frequency (or sampling rate) of the polysomnography (PSG) data, indicating the number of samples per second in the signal.\n",
    "\"\"\"\n",
    "\n",
    "# Reading data (psg) and hypnogram (labels)\n",
    "psg_file = \"data/SC4001E0-PSG.edf\"\n",
    "hypnogram_file = \"data/SC4001EC-Hypnogram.edf\"\n",
    "\n",
    "# psg_data = mne.io.read_raw_edf(psg_file)\n",
    "# hypnogram_data = mne.read_annotations(hypnogram_file)"
   ]
  },
  {
   "cell_type": "code",
   "execution_count": 12,
   "metadata": {},
   "outputs": [
    {
     "name": "stdout",
     "output_type": "stream",
     "text": [
      "Extracting EDF parameters from /Users/stig/Desktop/- TU:e/5Q1 ITBA Buenos Aires/72.75 Aprendizarje Automatico/72.75-ML/final/data/SC4001E0-PSG.edf...\n",
      "EDF file detected\n",
      "Setting channel info structure...\n",
      "Creating raw.info structure...\n"
     ]
    },
    {
     "name": "stderr",
     "output_type": "stream",
     "text": [
      "/Users/stig/Desktop/- TU:e/5Q1 ITBA Buenos Aires/72.75 Aprendizarje Automatico/72.75-ML/final/epoch.py:117: RuntimeWarning: Limited 1 annotation(s) that were expanding outside the data range.\n",
      "  psg_data_raw.set_annotations(hypnogramm_annotations)\n"
     ]
    }
   ],
   "source": [
    "s = epoch.sleepRecording()\n",
    "s.init_from_file(\"data/SC4001E0-PSG.edf\", \"data/SC4001EC-Hypnogram.edf\")"
   ]
  },
  {
   "cell_type": "code",
   "execution_count": 13,
   "metadata": {},
   "outputs": [
    {
     "name": "stdout",
     "output_type": "stream",
     "text": [
      "Sleep stage W: 1997\n",
      "Sleep stage 1: 58\n",
      "Sleep stage 2: 250\n",
      "Sleep stage 3: 101\n",
      "Sleep stage 4: 119\n",
      "Sleep stage R: 125\n"
     ]
    }
   ],
   "source": [
    "# Checking how much of each label we have in the dataset\n",
    "\n",
    "label_list = [s.epochs[i].label for i in range(len(s.epochs))]\n",
    "label_counts = Counter(label_list)\n",
    "for label, count in label_counts.items():\n",
    "    print(f\"{label}: {count}\")"
   ]
  },
  {
   "cell_type": "code",
   "execution_count": 14,
   "metadata": {},
   "outputs": [
    {
     "data": {
      "text/plain": [
       "['EEG Fpz-Cz',\n",
       " 'EEG Pz-Oz',\n",
       " 'EOG horizontal',\n",
       " 'Resp oro-nasal',\n",
       " 'EMG submental',\n",
       " 'Temp rectal',\n",
       " 'Event marker']"
      ]
     },
     "execution_count": 14,
     "metadata": {},
     "output_type": "execute_result"
    }
   ],
   "source": [
    "s.epochs[10].ch_names"
   ]
  },
  {
   "cell_type": "code",
   "execution_count": 29,
   "metadata": {},
   "outputs": [
    {
     "data": {
      "text/plain": [
       "(2120, 15)"
      ]
     },
     "execution_count": 29,
     "metadata": {},
     "output_type": "execute_result"
    }
   ],
   "source": [
    "FREQ_BANDS = {'SO':[0.5, 1],\n",
    "            'delta': [1, 4],\n",
    "            'theta': [4, 8],\n",
    "            'alpha': [8, 13],\n",
    "            'sigma': [13,15],\n",
    "            'beta': [15, 30],\n",
    "            'gamma': [30, 60]}\n",
    "\n",
    "# Applying feature extraction functions to each epoch\n",
    "create_features_recording_session(s)\n",
    "\n",
    "# Initialize lists for features and labels\n",
    "features = []\n",
    "labels = []\n",
    "\n",
    "# Iterate over each epoch to gather features and labels\n",
    "for e in s.epochs:\n",
    "    # Extract the features for the current epoch\n",
    "    feature_row = [e.features[f'integral_{band}_Pz-Oz'] for band in FREQ_BANDS] + \\\n",
    "                  [e.features[f'integral_{band}_Fpz-Cz'] for band in FREQ_BANDS] + \\\n",
    "                  [e.features['avg_temp']]\n",
    "    \n",
    "    # Append the feature row and label to their respective lists\n",
    "    features.append(feature_row)\n",
    "    labels.append(e.label)\n",
    "\n",
    "# Convert to NumPy arrays\n",
    "X = np.array(features)\n",
    "y = np.array(labels)\n",
    "\n",
    "# Handling missing values (if any)\n",
    "# Example: Replace NaNs with the mean of the respective column\n",
    "X = np.nan_to_num(X, nan=np.nanmean(X))\n",
    "\n",
    "# Feature Scaling\n",
    "scaler = StandardScaler()\n",
    "X_scaled = scaler.fit_transform(X)\n",
    "\n",
    "# Initialize the label encoder. Fit the label encoder and transform the labels to integers\n",
    "label_encoder = LabelEncoder()\n",
    "y_encoded = label_encoder.fit_transform(y)\n",
    "\n",
    "# Splitting the dataset into Training and Test sets\n",
    "X_train, X_test, y_train, y_test = train_test_split(X_scaled, y_encoded, test_size=0.2, random_state=42)\n",
    "\n",
    "X_train.shape"
   ]
  },
  {
   "cell_type": "code",
   "execution_count": 32,
   "metadata": {},
   "outputs": [
    {
     "name": "stdout",
     "output_type": "stream",
     "text": [
      "Test Accuracy: 0.9434\n"
     ]
    }
   ],
   "source": [
    "# Define hyperparameters\n",
    "hyperparameters = {\n",
    "    'n_estimators': 100,        # Number of trees - start with a moderate number\n",
    "    'learning_rate': 0.1,       # Learning rate - start with a default value\n",
    "    'max_depth': 3,             # Moderate depth to control overfitting\n",
    "    'subsample': 0.8,           # Use 80% of data to fit each tree\n",
    "    'colsample_bytree': 0.8,    # Use 80% of features for each tree\n",
    "    'gamma': 0.1,           # Minimum loss reduction required to make a further partition\n",
    "    'reg_lambda': 1,            # L2 regularization term\n",
    "    'reg_alpha': 0.1            # L1 regularization term\n",
    "}\n",
    "\n",
    "# Create an XGBoost classifier\n",
    "xgb_clf = XGBClassifier(**hyperparameters)\n",
    "\n",
    "# Create a pipeline\n",
    "pipeline = Pipeline([\n",
    "    ('classifier', xgb_clf)\n",
    "])\n",
    "\n",
    "# Fit the model\n",
    "pipeline.fit(X_train, y_train)\n"
   ]
  },
  {
   "cell_type": "code",
   "execution_count": 47,
   "metadata": {},
   "outputs": [
    {
     "name": "stdout",
     "output_type": "stream",
     "text": [
      "Test Accuracy: 0.9434\n"
     ]
    }
   ],
   "source": [
    "# Evaluate the model\n",
    "accuracy = pipeline.score(X_test, y_test)\n",
    "print(f\"Test Accuracy: {accuracy:.4f}\")\n",
    "\n",
    "# Make predictions on the test set\n",
    "predictions = pipeline.predict(X_test)"
   ]
  },
  {
   "cell_type": "code",
   "execution_count": 50,
   "metadata": {},
   "outputs": [
    {
     "data": {
      "image/png": "[encoded data removed]",
      "text/plain": [
       "<Figure size 1000x1000 with 2 Axes>"
      ]
     },
     "metadata": {},
     "output_type": "display_data"
    }
   ],
   "source": [
    "# Create a confusion matrix\n",
    "conf_matrix = confusion_matrix(y_test, predictions)\n",
    "\n",
    "plt.figure(figsize=(10, 10))\n",
    "\n",
    "# Use LogNorm for color scale\n",
    "plt.imshow(conf_matrix, interpolation='nearest', cmap=plt.cm.Blues, norm=LogNorm())\n",
    "\n",
    "plt.title('Confusion Matrix')\n",
    "plt.colorbar()\n",
    "\n",
    "# Labels for the plot axis\n",
    "thresh = conf_matrix.max() / 2.\n",
    "for i, j in product(range(conf_matrix.shape[0]), range(conf_matrix.shape[1])):\n",
    "    plt.text(j, i, conf_matrix[i, j],\n",
    "             horizontalalignment=\"center\",\n",
    "             color=\"white\" if conf_matrix[i, j] > thresh else \"black\")\n",
    "\n",
    "plt.ylabel('Prediction')\n",
    "plt.xlabel('Actual')\n",
    "plt.show()"
   ]
  },
  {
   "cell_type": "markdown",
   "metadata": {},
   "source": [
    "# Gridsearch"
   ]
  },
  {
   "cell_type": "code",
   "execution_count": 52,
   "metadata": {},
   "outputs": [],
   "source": [
    "# Define a parameter grid to search over\n",
    "param_grid = {\n",
    "    'classifier__n_estimators': [100, 200, 300],\n",
    "    'classifier__learning_rate': [0.01, 0.1, 0.2],\n",
    "    'classifier__max_depth': [3, 4, 5],\n",
    "    'classifier__subsample': [0.7, 0.8, 0.9],\n",
    "    'classifier__colsample_bytree': [0.7, 0.8, 0.9],\n",
    "    'classifier__gamma': [0.1, 0.2, 0.3],\n",
    "    'classifier__reg_lambda': [0.5, 1, 1.5],\n",
    "    'classifier__reg_alpha': [0.1, 0.2, 0.3]\n",
    "}\n",
    "\n",
    "# Create a GridSearchCV object\n",
    "grid_search = GridSearchCV(pipeline, param_grid, cv=5, scoring='accuracy', n_jobs=-1)\n",
    "\n",
    "# Fit the grid search to the data\n",
    "grid_search.fit(X_train, y_train)\n",
    "\n",
    "# Get the best parameters\n",
    "best_parameters = grid_search.best_params_\n",
    "print(\"Best Parameters:\", best_parameters)\n"
   ]
  }
 ],
 "metadata": {
  "kernelspec": {
   "display_name": "gpt",
   "language": "python",
   "name": "python3"
  },
  "language_info": {
   "codemirror_mode": {
    "name": "ipython",
    "version": 3
   },
   "file_extension": ".py",
   "mimetype": "text/x-python",
   "name": "python",
   "nbconvert_exporter": "python",
   "pygments_lexer": "ipython3",
   "version": "3.10.12"
  }
 },
 "nbformat": 4,
 "nbformat_minor": 2
}
