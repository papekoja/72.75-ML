{
 "cells": [
  {
   "cell_type": "code",
   "execution_count": 8,
   "metadata": {},
   "outputs": [],
   "source": [
    "import pandas as pd\n",
    "import matplotlib.pyplot as plt\n",
    "\n",
    "import seaborn as sns\n"
   ]
  },
  {
   "cell_type": "markdown",
   "metadata": {},
   "source": [
    "# Question A\n",
    "Calculate the probability that a person who comes from a rank 1 school has not been admitted to the university"
   ]
  },
  {
   "cell_type": "code",
   "execution_count": 40,
   "metadata": {},
   "outputs": [
    {
     "name": "stdout",
     "output_type": "stream",
     "text": [
      "Probability P(not admitted|rank = 1) = 0.10256410256410256\n"
     ]
    }
   ],
   "source": [
    "df = pd.read_csv('data.csv')\n",
    "\n",
    "# Calculate the probability that a person who comes from a rank 1 school has not been admitted to the university.\n",
    "\n",
    "# Prior probability\n",
    "p_admit = 1 - df['admit'].value_counts()[1] / df['admit'].count()\n",
    "\n",
    "# Posterior probability  \n",
    "gre_less_eq_500 = df[df['gre'] <= 500]\n",
    "gre_more_500 = df[df['gre'] > 500]\n",
    "\n",
    "not_admited = df[df['admit'] == 0]\n",
    "\n",
    "# count rank = 1 in not_admited\n",
    "p1 = not_admited[not_admited['rank'] == 1]['rank'].count() / not_admited['rank'].count()\n",
    "p2 = p_admit\n",
    "\n",
    "# give the probability of rank=1 in df\n",
    "p3 = df[df['rank'] == 1]['rank'].count() / df['rank'].count()\n",
    "\n",
    "P = (p1*p2)/p3\n",
    "\n",
    "print(f\"Probability P(not admitted|rank = 1) = {p1}\")"
   ]
  },
  {
   "cell_type": "markdown",
   "metadata": {},
   "source": [
    "# Question B\n",
    "Calculate the probability that a person who went to a rank 2 school, has GRE = 450 and GPA = 3.5 will be admitted to the university.\n"
   ]
  },
  {
   "cell_type": "code",
   "execution_count": 59,
   "metadata": {},
   "outputs": [
    {
     "name": "stdout",
     "output_type": "stream",
     "text": [
      "Probability P(admitted|R2 , greL, gpaH) = 0.425197\n",
      "p11 = 0.425197, p12 = 0.125984, p13 = 0.88189\n",
      "p1 = 0.047241165348472426\n",
      "p2 = 0.3175\n",
      "p3 = 0.06128240625\n",
      "P = 0.244753\n"
     ]
    }
   ],
   "source": [
    "# Bayes' theorem\n",
    "# P = ( p1 * p2 ) / p3\n",
    "\n",
    "# p1 = P( R2 , greL, gpaH | A1)\n",
    "# p1 = P( p11 , p12, p13 | A1)\n",
    "\n",
    "# Here i create a subset only containing admitted = 1\n",
    "A1 = df[df['admit'] == 1]\n",
    "\n",
    "# below it says something like ('subset X' / 'total X') to get the probabilities\n",
    "p11 = A1[A1['rank'] == 2]['rank'].count() / A1['rank'].count()\n",
    "p12 = A1[A1['gre'] < 500]['rank'].count() / A1['rank'].count()\n",
    "p13 = A1[A1['gpa'] >= 3]['rank'].count() / A1['rank'].count()\n",
    "\n",
    "# Now construct the whole p1 as :  p1 = P( p11 , p12, p13 | A1)\n",
    "p1 = p11 * p12 * p13\n",
    "\n",
    "\n",
    "# p2 is just the probability that it's admitted\n",
    "p2 = A1.shape[0] / df.shape[0]\n",
    "\n",
    "\n",
    "# P3 is \n",
    "p31 = df[df['rank'] == 2]['rank'].count() / df['rank'].count()\n",
    "p32 = df[df['gre'] < 500]['rank'].count() / df['rank'].count()\n",
    "p33 = df[df['gpa'] >= 3]['rank'].count() / df['rank'].count()\n",
    "\n",
    "p3 = p31 * p32 * p33\n",
    "\n",
    "\n",
    "# Now make the entire bayes' theorem\n",
    "P = (p1 * p2) / p3\n",
    "print(f\"Probability P(admitted|R2 , greL, gpaH) = {p11.round(6)}\")\n",
    "\n",
    "print(f\"p11 = {p11.round(6)}, p12 = {p12.round(6)}, p13 = {p13.round(6)}\\np1 = {p1}\\np2 = {p2}\\np3 = {p3}\\nP = {P.round(6)}\")\n"
   ]
  },
  {
   "cell_type": "markdown",
   "metadata": {},
   "source": [
    "## Williams test stuff"
   ]
  },
  {
   "cell_type": "code",
   "execution_count": 56,
   "metadata": {},
   "outputs": [
    {
     "name": "stdout",
     "output_type": "stream",
     "text": [
      "Probability of Admitted for Rank 2, GRE = 450, GPA = 3.5: 0.19047619047619047\n"
     ]
    }
   ],
   "source": [
    "# Read the CSV file into a DataFrame\n",
    "csv_file_path = 'data.csv'\n",
    "\n",
    "data_df = pd.read_csv(csv_file_path)\n",
    "\n",
    "# Calculate the prior probabilities\n",
    "total_rows = len(data_df)\n",
    "total_rank_1 = data_df[data_df['rank'] == 1].shape[0]\n",
    "total_not_admitted = data_df[data_df['admit'] == 0].shape[0]\n",
    "total_admitted = data_df[data_df['admit'] == 1].shape[0]\n",
    "total_not_admitted_given_rank_1 = data_df[(data_df['rank'] == 1) & (data_df['admit'] == 0)].shape[0]\n",
    "\n",
    "# Calculate probabilities\n",
    "p_rank_1 = total_rank_1 / total_rows\n",
    "p_not_admitted = total_not_admitted / total_rows\n",
    "p_rank_1_given_not_admitted = total_not_admitted_given_rank_1 / total_not_admitted\n",
    "\n",
    "# Apply Bayes' theorem\n",
    "p_rank_1_given_not_admitted = (p_rank_1_given_not_admitted * p_not_admitted) / p_rank_1\n",
    "\n",
    "\n",
    "\n",
    "# Calculate the conditional probability\n",
    "total_rank_2_gre_450_gpa_35 = data_df[\n",
    "    (data_df['rank'] == 2) &\n",
    "    (data_df['gre'] < 500) &\n",
    "    (data_df['gpa'] >= 3) &\n",
    "    (data_df['admit'] == 1)\n",
    "].shape[0]\n",
    "\n",
    "total_rank_2_gre_450_gpa_35_total = data_df[\n",
    "    (data_df['rank'] == 2) &\n",
    "    (data_df['gre'] < 500) &\n",
    "    (data_df['gpa'] >= 3)\n",
    "].shape[0]\n",
    "\n",
    "p_admitted_given_rank_2 = total_rank_2_gre_450_gpa_35 / total_admitted\n",
    "p_admitted_given_rank_2_gre_450_gpa_35 = (p_admitted_given_rank_2 * total_admitted) / total_rank_2_gre_450_gpa_35_total\n",
    "\n",
    "print(\"Probability of Admitted for Rank 2, GRE = 450, GPA = 3.5:\", p_admitted_given_rank_2_gre_450_gpa_35)\n",
    "\n",
    "p11 = \n",
    "p12 = \n",
    "p13 =\n",
    "p1 = \n",
    "p2 =\n",
    "p3 =\n",
    "P =\n",
    "\n",
    "print(f\"p11 = {p11.round(6)}, p12 = {p12.round(6)}, p13 = {p13.round(6)}\\np1 = {p1}\\np2 = {p2}\\np3 = {p3}\\nP = {P.round(6)}\")\n"
   ]
  },
  {
   "cell_type": "code",
   "execution_count": null,
   "metadata": {},
   "outputs": [],
   "source": []
  }
 ],
 "metadata": {
  "kernelspec": {
   "display_name": "AI_project",
   "language": "python",
   "name": "python3"
  },
  "language_info": {
   "codemirror_mode": {
    "name": "ipython",
    "version": 3
   },
   "file_extension": ".py",
   "mimetype": "text/x-python",
   "name": "python",
   "nbconvert_exporter": "python",
   "pygments_lexer": "ipython3",
   "version": "3.9.13"
  },
  "orig_nbformat": 4
 },
 "nbformat": 4,
 "nbformat_minor": 2
}
