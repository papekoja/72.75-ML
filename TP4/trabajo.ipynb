{
 "cells": [
  {
   "cell_type": "code",
   "execution_count": 5,
   "metadata": {},
   "outputs": [],
   "source": [
    "import pandas as pd\n",
    "import numpy as np\n",
    "import matplotlib\n",
    "\n",
    "path = 'movie_data.csv'\n",
    "data = pd.read_csv(path, sep=';', decimal='.')"
   ]
  },
  {
   "cell_type": "markdown",
   "metadata": {},
   "source": [
    "# Trabajo A\n",
    "\n",
    "### Summary Statistics:\n",
    "\n",
    "Use descriptive statistics like mean, median, mode, and standard deviation to understand the central tendency and spread of numerical variables such as 'budget,' 'popularity,' 'revenue,' 'runtime,' 'vote average,' and 'vote count.'"
   ]
  },
  {
   "cell_type": "code",
   "execution_count": null,
   "metadata": {},
   "outputs": [],
   "source": []
  },
  {
   "cell_type": "markdown",
   "metadata": {},
   "source": [
    "### Bar Plots:\n",
    "For categorical variables like 'genres' and 'spoken languages,' use bar plots to show the frequency of each category. This provides insights into the composition of your dataset.\n",
    "\n",
    "- Genres (count)\n",
    "- spoken languages (count)\n",
    "- Revenue - Genres"
   ]
  },
  {
   "cell_type": "markdown",
   "metadata": {},
   "source": [
    "# Scatter Plots\n",
    "\n",
    "- Revenue - Production countries\n",
    "- Revenue - Production Companies\n",
    "- "
   ]
  }
 ],
 "metadata": {
  "kernelspec": {
   "display_name": "gpt",
   "language": "python",
   "name": "python3"
  },
  "language_info": {
   "codemirror_mode": {
    "name": "ipython",
    "version": 3
   },
   "file_extension": ".py",
   "mimetype": "text/x-python",
   "name": "python",
   "nbconvert_exporter": "python",
   "pygments_lexer": "ipython3",
   "version": "3.10.12"
  }
 },
 "nbformat": 4,
 "nbformat_minor": 2
}
